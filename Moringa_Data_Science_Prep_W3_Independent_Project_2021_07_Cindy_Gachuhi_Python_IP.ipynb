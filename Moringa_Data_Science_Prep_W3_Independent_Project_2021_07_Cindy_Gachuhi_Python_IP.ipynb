{
  "nbformat": 4,
  "nbformat_minor": 0,
  "metadata": {
    "colab": {
      "name": "Moringa_Data_Science_Prep_W3_Independent_Project_2021_07_Cindy_Gachuhi_Python IP",
      "provenance": []
    },
    "kernelspec": {
      "name": "python3",
      "display_name": "Python 3"
    },
    "language_info": {
      "name": "python"
    }
  },
  "cells": [
    {
      "cell_type": "markdown",
      "metadata": {
        "id": "EDaislae0_sf"
      },
      "source": [
        "The following are the datasets required to be uploaded before starting to code:\n",
        "\n",
        "cells_geo_description.xlsx [Link]\n",
        "\n",
        "cells_geo.csv [Link]\n",
        "\n",
        "CDR_description.xlsx [Link]\n",
        "\n",
        "CDR 20120507 [http://bit.ly/TelecomDataset1]\n",
        "\n",
        "CDR 20120508 [http://bit.ly/TelecomDataset2]\n",
        "\n",
        "CDR 20120509 [http://bit.ly/TelecomDataset3]"
      ]
    },
    {
      "cell_type": "code",
      "metadata": {
        "colab": {
          "base_uri": "https://localhost:8080/",
          "height": 35
        },
        "id": "o8XxZed-0Qt4",
        "outputId": "4dcb9dd9-8841-46ce-9138-ee64d856b3ad"
      },
      "source": [
        "#we shall first load the sql extension into our environment\n",
        "\n",
        "%load_ext sql\n",
        "\n",
        "#connect to the memory sqlite database\n",
        "%sql sqlite://"
      ],
      "execution_count": 1,
      "outputs": [
        {
          "output_type": "execute_result",
          "data": {
            "application/vnd.google.colaboratory.intrinsic+json": {
              "type": "string"
            },
            "text/plain": [
              "'Connected: @None'"
            ]
          },
          "metadata": {
            "tags": []
          },
          "execution_count": 1
        }
      ]
    },
    {
      "cell_type": "code",
      "metadata": {
        "id": "MRZ5k3r04Avw"
      },
      "source": [
        "#let us import the python libraries we need\n",
        "import csv\n",
        "import pandas as pd\n"
      ],
      "execution_count": 2,
      "outputs": []
    },
    {
      "cell_type": "code",
      "metadata": {
        "colab": {
          "base_uri": "https://localhost:8080/",
          "height": 86
        },
        "id": "-xvikMmF45wb",
        "outputId": "3df5cfbe-e222-4709-f5ce-84982f40ecd1"
      },
      "source": [
        "#load the first table from a local csv file\n",
        "with open('cells_geo.csv','r') as f:\n",
        "    cells_geo = pd.read_csv(f, index_col=0, encoding='utf-8') \n",
        "\n",
        "#let us store this in our in memory sqlite database\n",
        "%sql DROP TABLE if EXISTS cells_geo;\n",
        "%sql PERSIST cells_geo;\n"
      ],
      "execution_count": 4,
      "outputs": [
        {
          "output_type": "stream",
          "text": [
            " * sqlite://\n",
            "Done.\n",
            " * sqlite://\n"
          ],
          "name": "stdout"
        },
        {
          "output_type": "execute_result",
          "data": {
            "application/vnd.google.colaboratory.intrinsic+json": {
              "type": "string"
            },
            "text/plain": [
              "'Persisted cells_geo'"
            ]
          },
          "metadata": {
            "tags": []
          },
          "execution_count": 4
        }
      ]
    },
    {
      "cell_type": "code",
      "metadata": {
        "colab": {
          "base_uri": "https://localhost:8080/",
          "height": 284
        },
        "id": "gP-zBePO5UK7",
        "outputId": "66c49ee8-5ae3-453e-dc39-248fa9ea065c"
      },
      "source": [
        "#preview the dataset\n",
        "%%sql\n",
        "select * from cells_geo\n",
        "limit 10;"
      ],
      "execution_count": 5,
      "outputs": [
        {
          "output_type": "stream",
          "text": [
            " * sqlite://\n",
            "Done.\n"
          ],
          "name": "stdout"
        },
        {
          "output_type": "execute_result",
          "data": {
            "text/html": [
              "<table>\n",
              "    <thead>\n",
              "        <tr>\n",
              "            <th>;VILLES;STATUS;LOCALISATION;DECOUPZONE;ZONENAME;LONGITUDE;LATITUDE;REGION;AREA;CELL_ID;SITE_CODE</th>\n",
              "        </tr>\n",
              "    </thead>\n",
              "    <tbody>\n",
              "        <tr>\n",
              "            <td>0;ADJAME;In Service;ABIDJAN;&quot;&quot;&quot;Abidjan_EST&quot;;AGBANNEW;-4.00066666666667;5.36819444444444;LAGUNE;;fbb2e75af3;0bb492ef17</td>\n",
              "        </tr>\n",
              "        <tr>\n",
              "            <td>1;ADJAME;In Service;ABIDJAN;&quot;&quot;&quot;Abidjan_EST&quot;;AGBANNEW;-4.00066666666667;5.36819444444444;LAGUNE;;1502501d78;0bb492ef17</td>\n",
              "        </tr>\n",
              "        <tr>\n",
              "            <td>2;ADJAME;In Service;ABIDJAN;&quot;&quot;&quot;Abidjan_EST&quot;;AGBANNEW;-4.00066666666667;5.36819444444444;LAGUNE;;0c2e182a0c;0bb492ef17</td>\n",
              "        </tr>\n",
              "        <tr>\n",
              "            <td>3;ASSINIE;In Service;INTERIEUR;Grand-EST;&quot;ASSINIE&quot;&quot;&quot;;-3.48846666666667;5.15876111111111;SUD COMOE;;69bdfc69fd;8a1e6ce31f</td>\n",
              "        </tr>\n",
              "        <tr>\n",
              "            <td>4;ASSINIE;In Service;INTERIEUR;Grand-EST;&quot;ASSINIE&quot;&quot;&quot;;-3.48846666666667;5.15876111111111;SUD COMOE;;7a1029d2ab;8a1e6ce31f</td>\n",
              "        </tr>\n",
              "        <tr>\n",
              "            <td>5;ASSINIE;In Service;INTERIEUR;Grand-EST;&quot;ASSINIE&quot;&quot;&quot;;-3.48846666666667;5.15876111111111;SUD COMOE;;0b4f56438f;8a1e6ce31f</td>\n",
              "        </tr>\n",
              "        <tr>\n",
              "            <td>6;KRIKOREA;In Service;INTERIEUR;Grand-OUEST;&quot;KRIKOREA&quot;&quot;&quot;;-6.62705555555556;6.70736111111111;HAUT SASSANDRA;;041d2504f5;260dbfedc5</td>\n",
              "        </tr>\n",
              "        <tr>\n",
              "            <td>7;ABOBO;In Service;ABIDJAN;&quot;&quot;&quot;Abidjan_NORD&quot;;NPONON;-4.02358333333333;5.43569444444444;LAGUNE;;a70c1d263b;56306cc7ca</td>\n",
              "        </tr>\n",
              "        <tr>\n",
              "            <td>8;ABOBO;In Service;ABIDJAN;&quot;&quot;&quot;Abidjan_NORD&quot;;NPONON;-4.02358333333333;5.43569444444444;LAGUNE;;e2d04ea883;56306cc7ca</td>\n",
              "        </tr>\n",
              "        <tr>\n",
              "            <td>9;ABOBO;;ABIDJAN;&quot;&quot;&quot;Abidjan_NORD&quot;;NPONON;-4.02358333333333;5.43569444444444;LAGUNE;;ee224cd27e;56306cc7ca</td>\n",
              "        </tr>\n",
              "    </tbody>\n",
              "</table>"
            ],
            "text/plain": [
              "[('0;ADJAME;In Service;ABIDJAN;\"\"\"Abidjan_EST\";AGBANNEW;-4.00066666666667;5.36819444444444;LAGUNE;;fbb2e75af3;0bb492ef17',),\n",
              " ('1;ADJAME;In Service;ABIDJAN;\"\"\"Abidjan_EST\";AGBANNEW;-4.00066666666667;5.36819444444444;LAGUNE;;1502501d78;0bb492ef17',),\n",
              " ('2;ADJAME;In Service;ABIDJAN;\"\"\"Abidjan_EST\";AGBANNEW;-4.00066666666667;5.36819444444444;LAGUNE;;0c2e182a0c;0bb492ef17',),\n",
              " ('3;ASSINIE;In Service;INTERIEUR;Grand-EST;\"ASSINIE\"\"\";-3.48846666666667;5.15876111111111;SUD COMOE;;69bdfc69fd;8a1e6ce31f',),\n",
              " ('4;ASSINIE;In Service;INTERIEUR;Grand-EST;\"ASSINIE\"\"\";-3.48846666666667;5.15876111111111;SUD COMOE;;7a1029d2ab;8a1e6ce31f',),\n",
              " ('5;ASSINIE;In Service;INTERIEUR;Grand-EST;\"ASSINIE\"\"\";-3.48846666666667;5.15876111111111;SUD COMOE;;0b4f56438f;8a1e6ce31f',),\n",
              " ('6;KRIKOREA;In Service;INTERIEUR;Grand-OUEST;\"KRIKOREA\"\"\";-6.62705555555556;6.70736111111111;HAUT SASSANDRA;;041d2504f5;260dbfedc5',),\n",
              " ('7;ABOBO;In Service;ABIDJAN;\"\"\"Abidjan_NORD\";NPONON;-4.02358333333333;5.43569444444444;LAGUNE;;a70c1d263b;56306cc7ca',),\n",
              " ('8;ABOBO;In Service;ABIDJAN;\"\"\"Abidjan_NORD\";NPONON;-4.02358333333333;5.43569444444444;LAGUNE;;e2d04ea883;56306cc7ca',),\n",
              " ('9;ABOBO;;ABIDJAN;\"\"\"Abidjan_NORD\";NPONON;-4.02358333333333;5.43569444444444;LAGUNE;;ee224cd27e;56306cc7ca',)]"
            ]
          },
          "metadata": {
            "tags": []
          },
          "execution_count": 5
        }
      ]
    },
    {
      "cell_type": "code",
      "metadata": {
        "colab": {
          "base_uri": "https://localhost:8080/",
          "height": 86
        },
        "id": "s03nCp8l5hUx",
        "outputId": "f6989e21-7baf-48e3-c08d-817523d28671"
      },
      "source": [
        "#load the second table from a local csv file\n",
        "with open('Telcom_dataset.csv','r') as f:\n",
        "    Telcom_dataset = pd.read_csv(f, index_col=0, encoding='utf-8') \n",
        "\n",
        "#let us store this in our in memory sqlite database\n",
        "%sql DROP TABLE if EXISTS Telcom_dataset;\n",
        "%sql PERSIST Telcom_dataset;"
      ],
      "execution_count": 6,
      "outputs": [
        {
          "output_type": "stream",
          "text": [
            " * sqlite://\n",
            "Done.\n",
            " * sqlite://\n"
          ],
          "name": "stdout"
        },
        {
          "output_type": "execute_result",
          "data": {
            "application/vnd.google.colaboratory.intrinsic+json": {
              "type": "string"
            },
            "text/plain": [
              "'Persisted telcom_dataset'"
            ]
          },
          "metadata": {
            "tags": []
          },
          "execution_count": 6
        }
      ]
    },
    {
      "cell_type": "code",
      "metadata": {
        "colab": {
          "base_uri": "https://localhost:8080/",
          "height": 454
        },
        "id": "cx-mLRuD5ueq",
        "outputId": "c5d773ac-ab3a-4680-c286-d090701bcd3f"
      },
      "source": [
        "#preview the dataset\n",
        "%%sql\n",
        "select * from Telcom_dataset\n",
        "limit 10;"
      ],
      "execution_count": 8,
      "outputs": [
        {
          "output_type": "stream",
          "text": [
            " * sqlite://\n",
            "Done.\n"
          ],
          "name": "stdout"
        },
        {
          "output_type": "execute_result",
          "data": {
            "text/html": [
              "<table>\n",
              "    <thead>\n",
              "        <tr>\n",
              "            <th>PRODUTC</th>\n",
              "            <th>VALUE</th>\n",
              "            <th>DATETIME</th>\n",
              "            <th>CELL_ON_SITE</th>\n",
              "            <th>DW_A_NUMBER_INT</th>\n",
              "            <th>DW_B_NUMBER_INT</th>\n",
              "            <th>COUNTRY_A</th>\n",
              "            <th>COUNTRY_B</th>\n",
              "            <th>CELL_ID</th>\n",
              "            <th>SITE_ID</th>\n",
              "        </tr>\n",
              "    </thead>\n",
              "    <tbody>\n",
              "        <tr>\n",
              "            <td>Voice</td>\n",
              "            <td>0</td>\n",
              "            <td>2012-05-06 23:04:37.0</td>\n",
              "            <td>1</td>\n",
              "            <td>49fae048b547780</td>\n",
              "            <td>1a49f8b0ded9de6</td>\n",
              "            <td>19e2e</td>\n",
              "            <td>19e2e</td>\n",
              "            <td>/TJNe+Mmtu</td>\n",
              "            <td>/TJNe+Mmtu</td>\n",
              "        </tr>\n",
              "        <tr>\n",
              "            <td>sms</td>\n",
              "            <td>0</td>\n",
              "            <td>2012-05-06 23:05:25.0</td>\n",
              "            <td>0</td>\n",
              "            <td>7a54a6eaee19e65</td>\n",
              "            <td>93343ba6e41af95</td>\n",
              "            <td>19e2e</td>\n",
              "            <td>19e2e</td>\n",
              "            <td>/+cKZKIp41</td>\n",
              "            <td>/+cKZKIp41</td>\n",
              "        </tr>\n",
              "        <tr>\n",
              "            <td>sms</td>\n",
              "            <td>25</td>\n",
              "            <td>2012-05-06 23:05:41.0</td>\n",
              "            <td>0</td>\n",
              "            <td>6008887b0207d82</td>\n",
              "            <td>7aacc9709ce0a20</td>\n",
              "            <td>19e2e</td>\n",
              "            <td>19e2e</td>\n",
              "            <td>/u0FSD+ahi</td>\n",
              "            <td>/u0FSD+ahi</td>\n",
              "        </tr>\n",
              "        <tr>\n",
              "            <td>Voice</td>\n",
              "            <td>56</td>\n",
              "            <td>2012-05-06 23:05:42.0</td>\n",
              "            <td>1</td>\n",
              "            <td>7370032e20f4e96</td>\n",
              "            <td>6af4a60e74c91d3</td>\n",
              "            <td>19e2e</td>\n",
              "            <td>19e2e</td>\n",
              "            <td>+cNeJzsTp3</td>\n",
              "            <td>+cNeJzsTp3</td>\n",
              "        </tr>\n",
              "        <tr>\n",
              "            <td>Voice</td>\n",
              "            <td>14</td>\n",
              "            <td>2012-05-06 23:06:29.0</td>\n",
              "            <td>1</td>\n",
              "            <td>966ba4656e38e62</td>\n",
              "            <td>02aa736ee555d5c</td>\n",
              "            <td>19e2e</td>\n",
              "            <td>19e2e</td>\n",
              "            <td>051KhYDCpv</td>\n",
              "            <td>051KhYDCpv</td>\n",
              "        </tr>\n",
              "        <tr>\n",
              "            <td>data</td>\n",
              "            <td>0</td>\n",
              "            <td>2012-05-06 23:07:26.0</td>\n",
              "            <td>_</td>\n",
              "            <td>f71825ca6e623f9</td>\n",
              "            <td>5a4dc9e82deb309</td>\n",
              "            <td>19e2e</td>\n",
              "            <td>OTHER</td>\n",
              "            <td>/lrUXVGVcN</td>\n",
              "            <td>/lrUXVGVcN</td>\n",
              "        </tr>\n",
              "        <tr>\n",
              "            <td>Voice</td>\n",
              "            <td>0</td>\n",
              "            <td>2012-05-06 23:08:02.0</td>\n",
              "            <td>1</td>\n",
              "            <td>4afd7d5af21b1ce</td>\n",
              "            <td>67bf1ac30e58e2f</td>\n",
              "            <td>19e2e</td>\n",
              "            <td>19e2e</td>\n",
              "            <td>+38u2u/rfx</td>\n",
              "            <td>+38u2u/rfx</td>\n",
              "        </tr>\n",
              "        <tr>\n",
              "            <td>Voice</td>\n",
              "            <td>0</td>\n",
              "            <td>2012-05-06 23:08:03.0</td>\n",
              "            <td>5</td>\n",
              "            <td>d717dee81c51389</td>\n",
              "            <td>adde5afd9a67b10</td>\n",
              "            <td>19e2e</td>\n",
              "            <td>19e2e</td>\n",
              "            <td>09UjmmY1Ds</td>\n",
              "            <td>09UjmmY1Ds</td>\n",
              "        </tr>\n",
              "        <tr>\n",
              "            <td>Voice</td>\n",
              "            <td>0</td>\n",
              "            <td>2012-05-06 23:08:05.0</td>\n",
              "            <td>1</td>\n",
              "            <td>44522aefdc918a6</td>\n",
              "            <td>19e68e80103885e</td>\n",
              "            <td>19e2e</td>\n",
              "            <td>19e2e</td>\n",
              "            <td>0DeimCpZOc</td>\n",
              "            <td>0DeimCpZOc</td>\n",
              "        </tr>\n",
              "        <tr>\n",
              "            <td>sms</td>\n",
              "            <td>0</td>\n",
              "            <td>2012-05-06 23:08:43.0</td>\n",
              "            <td>0</td>\n",
              "            <td>0763a571d24db64</td>\n",
              "            <td>f773694c00c74d2</td>\n",
              "            <td>19e2e</td>\n",
              "            <td>19e2e</td>\n",
              "            <td>01MDiY5F89</td>\n",
              "            <td>01MDiY5F89</td>\n",
              "        </tr>\n",
              "    </tbody>\n",
              "</table>"
            ],
            "text/plain": [
              "[('Voice', 0, '2012-05-06 23:04:37.0', '1', '49fae048b547780', '1a49f8b0ded9de6', '19e2e', '19e2e', '/TJNe+Mmtu', '/TJNe+Mmtu'),\n",
              " ('sms', 0, '2012-05-06 23:05:25.0', '0', '7a54a6eaee19e65', '93343ba6e41af95', '19e2e', '19e2e', '/+cKZKIp41', '/+cKZKIp41'),\n",
              " ('sms', 25, '2012-05-06 23:05:41.0', '0', '6008887b0207d82', '7aacc9709ce0a20', '19e2e', '19e2e', '/u0FSD+ahi', '/u0FSD+ahi'),\n",
              " ('Voice', 56, '2012-05-06 23:05:42.0', '1', '7370032e20f4e96', '6af4a60e74c91d3', '19e2e', '19e2e', '+cNeJzsTp3', '+cNeJzsTp3'),\n",
              " ('Voice', 14, '2012-05-06 23:06:29.0', '1', '966ba4656e38e62', '02aa736ee555d5c', '19e2e', '19e2e', '051KhYDCpv', '051KhYDCpv'),\n",
              " ('data', 0, '2012-05-06 23:07:26.0', '_', 'f71825ca6e623f9', '5a4dc9e82deb309', '19e2e', 'OTHER', '/lrUXVGVcN', '/lrUXVGVcN'),\n",
              " ('Voice', 0, '2012-05-06 23:08:02.0', '1', '4afd7d5af21b1ce', '67bf1ac30e58e2f', '19e2e', '19e2e', '+38u2u/rfx', '+38u2u/rfx'),\n",
              " ('Voice', 0, '2012-05-06 23:08:03.0', '5', 'd717dee81c51389', 'adde5afd9a67b10', '19e2e', '19e2e', '09UjmmY1Ds', '09UjmmY1Ds'),\n",
              " ('Voice', 0, '2012-05-06 23:08:05.0', '1', '44522aefdc918a6', '19e68e80103885e', '19e2e', '19e2e', '0DeimCpZOc', '0DeimCpZOc'),\n",
              " ('sms', 0, '2012-05-06 23:08:43.0', '0', '0763a571d24db64', 'f773694c00c74d2', '19e2e', '19e2e', '01MDiY5F89', '01MDiY5F89')]"
            ]
          },
          "metadata": {
            "tags": []
          },
          "execution_count": 8
        }
      ]
    },
    {
      "cell_type": "code",
      "metadata": {
        "colab": {
          "base_uri": "https://localhost:8080/",
          "height": 86
        },
        "id": "uoqJ23Ww5xDO",
        "outputId": "1e7fb9e1-25da-4692-cae8-2349a08fab54"
      },
      "source": [
        "#load the third table from a local csv file\n",
        "with open('Telcom_dataset2.csv','r') as f:\n",
        "    Telcom_dataset2 = pd.read_csv(f, index_col=0, encoding='utf-8') \n",
        "\n",
        "#let us store this in our in memory sqlite database\n",
        "%sql DROP TABLE if EXISTS Telcom_dataset2;\n",
        "%sql PERSIST Telcom_dataset2;"
      ],
      "execution_count": 9,
      "outputs": [
        {
          "output_type": "stream",
          "text": [
            " * sqlite://\n",
            "Done.\n",
            " * sqlite://\n"
          ],
          "name": "stdout"
        },
        {
          "output_type": "execute_result",
          "data": {
            "application/vnd.google.colaboratory.intrinsic+json": {
              "type": "string"
            },
            "text/plain": [
              "'Persisted telcom_dataset2'"
            ]
          },
          "metadata": {
            "tags": []
          },
          "execution_count": 9
        }
      ]
    },
    {
      "cell_type": "code",
      "metadata": {
        "colab": {
          "base_uri": "https://localhost:8080/",
          "height": 284
        },
        "id": "BCw-4SIS59Xx",
        "outputId": "826fd2ed-b4c9-4f56-b7c2-b6b3f01357b8"
      },
      "source": [
        "#preview the dataset\n",
        "%%sql\n",
        "select * from Telcom_dataset2\n",
        "limit 10;"
      ],
      "execution_count": 10,
      "outputs": [
        {
          "output_type": "stream",
          "text": [
            " * sqlite://\n",
            "Done.\n"
          ],
          "name": "stdout"
        },
        {
          "output_type": "execute_result",
          "data": {
            "text/html": [
              "<table>\n",
              "    <thead>\n",
              "        <tr>\n",
              "            <th>PRODUCT</th>\n",
              "            <th>VALUE</th>\n",
              "            <th>DATE_TIME</th>\n",
              "            <th>CELL_ON_SITE</th>\n",
              "            <th>DW_A_NUMBER</th>\n",
              "            <th>DW_B_NUMBER</th>\n",
              "            <th>COUNTRY_A</th>\n",
              "            <th>COUNTRY_B</th>\n",
              "            <th>CELL_ID</th>\n",
              "            <th>SITE_ID</th>\n",
              "        </tr>\n",
              "    </thead>\n",
              "    <tbody>\n",
              "        <tr>\n",
              "            <td>sms</td>\n",
              "            <td>0</td>\n",
              "            <td>2012-05-07 23:02:06.0</td>\n",
              "            <td>2</td>\n",
              "            <td>32255675c3b6fe3</td>\n",
              "            <td>1aa7ae01386e9fb</td>\n",
              "            <td>19e2e</td>\n",
              "            <td>19e2e</td>\n",
              "            <td>+854AcBQT2</td>\n",
              "            <td>+854AcBQT2</td>\n",
              "        </tr>\n",
              "        <tr>\n",
              "            <td>Voice</td>\n",
              "            <td>0</td>\n",
              "            <td>2012-05-07 23:03:44.0</td>\n",
              "            <td>1</td>\n",
              "            <td>ff16d6ac74c1c64</td>\n",
              "            <td>87d87309c15a8c9</td>\n",
              "            <td>19e2e</td>\n",
              "            <td>19e2e</td>\n",
              "            <td>+854AcBQT2</td>\n",
              "            <td>+854AcBQT2</td>\n",
              "        </tr>\n",
              "        <tr>\n",
              "            <td>sms</td>\n",
              "            <td>0</td>\n",
              "            <td>2012-05-07 23:04:06.0</td>\n",
              "            <td>0</td>\n",
              "            <td>98d9f2fb5ff624b</td>\n",
              "            <td>93343ba6e41af95</td>\n",
              "            <td>19e2e</td>\n",
              "            <td>19e2e</td>\n",
              "            <td>+laSrk7g6q</td>\n",
              "            <td>+laSrk7g6q</td>\n",
              "        </tr>\n",
              "        <tr>\n",
              "            <td>Voice</td>\n",
              "            <td>37</td>\n",
              "            <td>2012-05-07 23:04:48.0</td>\n",
              "            <td>1</td>\n",
              "            <td>3f9c8a33ec7be1f</td>\n",
              "            <td>7d05a38f89c49d8</td>\n",
              "            <td>19e2e</td>\n",
              "            <td>19e2e</td>\n",
              "            <td>/xvRrCVKoQ</td>\n",
              "            <td>/xvRrCVKoQ</td>\n",
              "        </tr>\n",
              "        <tr>\n",
              "            <td>sms</td>\n",
              "            <td>25</td>\n",
              "            <td>2012-05-07 23:04:58.0</td>\n",
              "            <td>1</td>\n",
              "            <td>7bcccc03adf3864</td>\n",
              "            <td>56a5d5430d2fa86</td>\n",
              "            <td>19e2e</td>\n",
              "            <td>19e2e</td>\n",
              "            <td>+bO+qkSonO</td>\n",
              "            <td>+bO+qkSonO</td>\n",
              "        </tr>\n",
              "        <tr>\n",
              "            <td>sms</td>\n",
              "            <td>0</td>\n",
              "            <td>2012-05-07 23:05:41.0</td>\n",
              "            <td>4</td>\n",
              "            <td>d73f11fdc9fcb30</td>\n",
              "            <td>ec90fdb12b50cbc</td>\n",
              "            <td>19e2e</td>\n",
              "            <td>19e2e</td>\n",
              "            <td>/MMplBlWjh</td>\n",
              "            <td>/MMplBlWjh</td>\n",
              "        </tr>\n",
              "        <tr>\n",
              "            <td>Voice</td>\n",
              "            <td>41</td>\n",
              "            <td>2012-05-07 23:06:14.0</td>\n",
              "            <td>1</td>\n",
              "            <td>eafaf521153b405</td>\n",
              "            <td>70a60b7bca83a58</td>\n",
              "            <td>19e2e</td>\n",
              "            <td>19e2e</td>\n",
              "            <td>+laSrk7g6q</td>\n",
              "            <td>+laSrk7g6q</td>\n",
              "        </tr>\n",
              "        <tr>\n",
              "            <td>Voice</td>\n",
              "            <td>11</td>\n",
              "            <td>2012-05-07 23:06:28.0</td>\n",
              "            <td>0</td>\n",
              "            <td>a1799cdc5108a90</td>\n",
              "            <td>efee282793c4e56</td>\n",
              "            <td>19e2e</td>\n",
              "            <td>19e2e</td>\n",
              "            <td>+gySf02tKW</td>\n",
              "            <td>+gySf02tKW</td>\n",
              "        </tr>\n",
              "        <tr>\n",
              "            <td>sms</td>\n",
              "            <td>0</td>\n",
              "            <td>2012-05-07 23:06:35.0</td>\n",
              "            <td>2</td>\n",
              "            <td>f81bb99db8c0373</td>\n",
              "            <td>7af76c2046e02f3</td>\n",
              "            <td>19e2e</td>\n",
              "            <td>OTHER</td>\n",
              "            <td>/0FxP3az1x</td>\n",
              "            <td>/0FxP3az1x</td>\n",
              "        </tr>\n",
              "        <tr>\n",
              "            <td>sms</td>\n",
              "            <td>0</td>\n",
              "            <td>2012-05-07 23:06:50.0</td>\n",
              "            <td>0</td>\n",
              "            <td>6a7d89469dc20e9</td>\n",
              "            <td>3690c6c0444c0c0</td>\n",
              "            <td>19e2e</td>\n",
              "            <td>19e2e</td>\n",
              "            <td>0ecjmwPX21</td>\n",
              "            <td>0ecjmwPX21</td>\n",
              "        </tr>\n",
              "    </tbody>\n",
              "</table>"
            ],
            "text/plain": [
              "[('sms', 0, '2012-05-07 23:02:06.0', '2', '32255675c3b6fe3', '1aa7ae01386e9fb', '19e2e', '19e2e', '+854AcBQT2', '+854AcBQT2'),\n",
              " ('Voice', 0, '2012-05-07 23:03:44.0', '1', 'ff16d6ac74c1c64', '87d87309c15a8c9', '19e2e', '19e2e', '+854AcBQT2', '+854AcBQT2'),\n",
              " ('sms', 0, '2012-05-07 23:04:06.0', '0', '98d9f2fb5ff624b', '93343ba6e41af95', '19e2e', '19e2e', '+laSrk7g6q', '+laSrk7g6q'),\n",
              " ('Voice', 37, '2012-05-07 23:04:48.0', '1', '3f9c8a33ec7be1f', '7d05a38f89c49d8', '19e2e', '19e2e', '/xvRrCVKoQ', '/xvRrCVKoQ'),\n",
              " ('sms', 25, '2012-05-07 23:04:58.0', '1', '7bcccc03adf3864', '56a5d5430d2fa86', '19e2e', '19e2e', '+bO+qkSonO', '+bO+qkSonO'),\n",
              " ('sms', 0, '2012-05-07 23:05:41.0', '4', 'd73f11fdc9fcb30', 'ec90fdb12b50cbc', '19e2e', '19e2e', '/MMplBlWjh', '/MMplBlWjh'),\n",
              " ('Voice', 41, '2012-05-07 23:06:14.0', '1', 'eafaf521153b405', '70a60b7bca83a58', '19e2e', '19e2e', '+laSrk7g6q', '+laSrk7g6q'),\n",
              " ('Voice', 11, '2012-05-07 23:06:28.0', '0', 'a1799cdc5108a90', 'efee282793c4e56', '19e2e', '19e2e', '+gySf02tKW', '+gySf02tKW'),\n",
              " ('sms', 0, '2012-05-07 23:06:35.0', '2', 'f81bb99db8c0373', '7af76c2046e02f3', '19e2e', 'OTHER', '/0FxP3az1x', '/0FxP3az1x'),\n",
              " ('sms', 0, '2012-05-07 23:06:50.0', '0', '6a7d89469dc20e9', '3690c6c0444c0c0', '19e2e', '19e2e', '0ecjmwPX21', '0ecjmwPX21')]"
            ]
          },
          "metadata": {
            "tags": []
          },
          "execution_count": 10
        }
      ]
    },
    {
      "cell_type": "code",
      "metadata": {
        "colab": {
          "base_uri": "https://localhost:8080/",
          "height": 86
        },
        "id": "hWrAQILi5_Qz",
        "outputId": "893f1cdb-a43e-43c2-b5fc-a77f6cc7d670"
      },
      "source": [
        "#load the third table from a local csv file\n",
        "with open('Telcom_dataset3.csv','r') as f:\n",
        "    Telcom_dataset3 = pd.read_csv(f, index_col=0, encoding='utf-8') \n",
        "\n",
        "#let us store this in our in memory sqlite database\n",
        "%sql DROP TABLE if EXISTS Telcom_dataset3;\n",
        "%sql PERSIST Telcom_dataset3;"
      ],
      "execution_count": 11,
      "outputs": [
        {
          "output_type": "stream",
          "text": [
            " * sqlite://\n",
            "Done.\n",
            " * sqlite://\n"
          ],
          "name": "stdout"
        },
        {
          "output_type": "execute_result",
          "data": {
            "application/vnd.google.colaboratory.intrinsic+json": {
              "type": "string"
            },
            "text/plain": [
              "'Persisted telcom_dataset3'"
            ]
          },
          "metadata": {
            "tags": []
          },
          "execution_count": 11
        }
      ]
    },
    {
      "cell_type": "code",
      "metadata": {
        "colab": {
          "base_uri": "https://localhost:8080/",
          "height": 454
        },
        "id": "O7ew0Gzo6CSj",
        "outputId": "a0073994-cb6b-4eb0-c600-86875678f27d"
      },
      "source": [
        "#preview the dataset\n",
        "%%sql\n",
        "select * from Telcom_dataset3\n",
        "limit 10;"
      ],
      "execution_count": 12,
      "outputs": [
        {
          "output_type": "stream",
          "text": [
            " * sqlite://\n",
            "Done.\n"
          ],
          "name": "stdout"
        },
        {
          "output_type": "execute_result",
          "data": {
            "text/html": [
              "<table>\n",
              "    <thead>\n",
              "        <tr>\n",
              "            <th>PRODUCT</th>\n",
              "            <th>VALUE</th>\n",
              "            <th>DATE_TIME</th>\n",
              "            <th>CELL_ON_SITE</th>\n",
              "            <th>DW_A_NUMBER_INT</th>\n",
              "            <th>DW_B_NUMBER_INT</th>\n",
              "            <th>COUNTRY_A</th>\n",
              "            <th>COUNTRY_B</th>\n",
              "            <th>CELLID</th>\n",
              "            <th>SIET_ID</th>\n",
              "        </tr>\n",
              "    </thead>\n",
              "    <tbody>\n",
              "        <tr>\n",
              "            <td>Voice</td>\n",
              "            <td>61</td>\n",
              "            <td>2012-05-08 23:01:28.0</td>\n",
              "            <td>2</td>\n",
              "            <td>966f68353622feb</td>\n",
              "            <td>ffd53a3bb2db6f1</td>\n",
              "            <td>19e2e</td>\n",
              "            <td>19e2e</td>\n",
              "            <td>+38u2u/rfx</td>\n",
              "            <td>+38u2u/rfx</td>\n",
              "        </tr>\n",
              "        <tr>\n",
              "            <td>sms</td>\n",
              "            <td>0</td>\n",
              "            <td>2012-05-08 23:01:31.0</td>\n",
              "            <td>1</td>\n",
              "            <td>a0a597384c612d7</td>\n",
              "            <td>cf3b218f1dde792</td>\n",
              "            <td>19e2e</td>\n",
              "            <td>19e2e</td>\n",
              "            <td>+Fs4mTvdKx</td>\n",
              "            <td>+Fs4mTvdKx</td>\n",
              "        </tr>\n",
              "        <tr>\n",
              "            <td>Voice</td>\n",
              "            <td>10</td>\n",
              "            <td>2012-05-08 23:02:59.0</td>\n",
              "            <td>1</td>\n",
              "            <td>5441a9a58c97132</td>\n",
              "            <td>52f8b299515b9b7</td>\n",
              "            <td>19e2e</td>\n",
              "            <td>19e2e</td>\n",
              "            <td>+ZaaZozy/+</td>\n",
              "            <td>+ZaaZozy/+</td>\n",
              "        </tr>\n",
              "        <tr>\n",
              "            <td>sms</td>\n",
              "            <td>0</td>\n",
              "            <td>2012-05-08 23:03:04.0</td>\n",
              "            <td>0</td>\n",
              "            <td>8ab8b9ed6989f61</td>\n",
              "            <td>e09e736e46c5c3d</td>\n",
              "            <td>19e2e</td>\n",
              "            <td>19e2e</td>\n",
              "            <td>+cNeJzsTp3</td>\n",
              "            <td>+cNeJzsTp3</td>\n",
              "        </tr>\n",
              "        <tr>\n",
              "            <td>Voice</td>\n",
              "            <td>22</td>\n",
              "            <td>2012-05-08 23:03:16.0</td>\n",
              "            <td>4</td>\n",
              "            <td>52662a62b199334</td>\n",
              "            <td>2186273faab4602</td>\n",
              "            <td>19e2e</td>\n",
              "            <td>19e2e</td>\n",
              "            <td>/eeMklgyJA</td>\n",
              "            <td>/eeMklgyJA</td>\n",
              "        </tr>\n",
              "        <tr>\n",
              "            <td>Voice</td>\n",
              "            <td>10</td>\n",
              "            <td>2012-05-08 23:03:59.0</td>\n",
              "            <td>0</td>\n",
              "            <td>c572f692ed9d25f</td>\n",
              "            <td>5e6221fa6b35f62</td>\n",
              "            <td>19e2e</td>\n",
              "            <td>19e2e</td>\n",
              "            <td>+e+xcimwre</td>\n",
              "            <td>+e+xcimwre</td>\n",
              "        </tr>\n",
              "        <tr>\n",
              "            <td>sms</td>\n",
              "            <td>0</td>\n",
              "            <td>2012-05-08 23:06:06.0</td>\n",
              "            <td>0</td>\n",
              "            <td>32cc9a0c68cc9ee</td>\n",
              "            <td>9eb1b241c685914</td>\n",
              "            <td>19e2e</td>\n",
              "            <td>19e2e</td>\n",
              "            <td>+R5ccmtyJf</td>\n",
              "            <td>+R5ccmtyJf</td>\n",
              "        </tr>\n",
              "        <tr>\n",
              "            <td>Voice</td>\n",
              "            <td>10</td>\n",
              "            <td>2012-05-08 23:06:55.0</td>\n",
              "            <td>1</td>\n",
              "            <td>38c234bf93b3aac</td>\n",
              "            <td>ae0bd079dc09dd5</td>\n",
              "            <td>19e2e</td>\n",
              "            <td>19e2e</td>\n",
              "            <td>+ZaaZozy/+</td>\n",
              "            <td>+ZaaZozy/+</td>\n",
              "        </tr>\n",
              "        <tr>\n",
              "            <td>sms</td>\n",
              "            <td>25</td>\n",
              "            <td>2012-05-08 23:07:09.0</td>\n",
              "            <td>1</td>\n",
              "            <td>6dd0d088cceca75</td>\n",
              "            <td>9bdc6a2acd8ee15</td>\n",
              "            <td>19e2e</td>\n",
              "            <td>19e2e</td>\n",
              "            <td>13O1+JEun3</td>\n",
              "            <td>13O1+JEun3</td>\n",
              "        </tr>\n",
              "        <tr>\n",
              "            <td>sms</td>\n",
              "            <td>0</td>\n",
              "            <td>2012-05-08 23:07:38.0</td>\n",
              "            <td>0</td>\n",
              "            <td>9572b11240ca426</td>\n",
              "            <td>64898ae3aa9cc93</td>\n",
              "            <td>19e2e</td>\n",
              "            <td>19e2e</td>\n",
              "            <td>/eeMklgyJA</td>\n",
              "            <td>/eeMklgyJA</td>\n",
              "        </tr>\n",
              "    </tbody>\n",
              "</table>"
            ],
            "text/plain": [
              "[('Voice', 61, '2012-05-08 23:01:28.0', '2', '966f68353622feb', 'ffd53a3bb2db6f1', '19e2e', '19e2e', '+38u2u/rfx', '+38u2u/rfx'),\n",
              " ('sms', 0, '2012-05-08 23:01:31.0', '1', 'a0a597384c612d7', 'cf3b218f1dde792', '19e2e', '19e2e', '+Fs4mTvdKx', '+Fs4mTvdKx'),\n",
              " ('Voice', 10, '2012-05-08 23:02:59.0', '1', '5441a9a58c97132', '52f8b299515b9b7', '19e2e', '19e2e', '+ZaaZozy/+', '+ZaaZozy/+'),\n",
              " ('sms', 0, '2012-05-08 23:03:04.0', '0', '8ab8b9ed6989f61', 'e09e736e46c5c3d', '19e2e', '19e2e', '+cNeJzsTp3', '+cNeJzsTp3'),\n",
              " ('Voice', 22, '2012-05-08 23:03:16.0', '4', '52662a62b199334', '2186273faab4602', '19e2e', '19e2e', '/eeMklgyJA', '/eeMklgyJA'),\n",
              " ('Voice', 10, '2012-05-08 23:03:59.0', '0', 'c572f692ed9d25f', '5e6221fa6b35f62', '19e2e', '19e2e', '+e+xcimwre', '+e+xcimwre'),\n",
              " ('sms', 0, '2012-05-08 23:06:06.0', '0', '32cc9a0c68cc9ee', '9eb1b241c685914', '19e2e', '19e2e', '+R5ccmtyJf', '+R5ccmtyJf'),\n",
              " ('Voice', 10, '2012-05-08 23:06:55.0', '1', '38c234bf93b3aac', 'ae0bd079dc09dd5', '19e2e', '19e2e', '+ZaaZozy/+', '+ZaaZozy/+'),\n",
              " ('sms', 25, '2012-05-08 23:07:09.0', '1', '6dd0d088cceca75', '9bdc6a2acd8ee15', '19e2e', '19e2e', '13O1+JEun3', '13O1+JEun3'),\n",
              " ('sms', 0, '2012-05-08 23:07:38.0', '0', '9572b11240ca426', '64898ae3aa9cc93', '19e2e', '19e2e', '/eeMklgyJA', '/eeMklgyJA')]"
            ]
          },
          "metadata": {
            "tags": []
          },
          "execution_count": 12
        }
      ]
    }
  ]
}